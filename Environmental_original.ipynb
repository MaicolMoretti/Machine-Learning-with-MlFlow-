{
 "cells": [
  {
   "cell_type": "code",
   "execution_count": 27,
   "metadata": {},
   "outputs": [
    {
     "name": "stdout",
     "output_type": "stream",
     "text": [
      "Columns name: \n",
      "['idsensor', 'sensortype', 'srtDate', 'absolute_humidity', 'back_front', 'battery_level', 'device_temperature', 'dew_point', 'environmental_temperature', 'movement_level', 'orientation', 'position', 'posture_tilt', 'pressure', 'regular', 'relative_humidity', 'sequence_number', 'Unnamed: 17']\n",
      "\n",
      "Sample data: \n"
     ]
    },
    {
     "data": {
      "text/html": [
       "<div>\n",
       "<style scoped>\n",
       "    .dataframe tbody tr th:only-of-type {\n",
       "        vertical-align: middle;\n",
       "    }\n",
       "\n",
       "    .dataframe tbody tr th {\n",
       "        vertical-align: top;\n",
       "    }\n",
       "\n",
       "    .dataframe thead th {\n",
       "        text-align: right;\n",
       "    }\n",
       "</style>\n",
       "<table border=\"1\" class=\"dataframe\">\n",
       "  <thead>\n",
       "    <tr style=\"text-align: right;\">\n",
       "      <th></th>\n",
       "      <th>idsensor</th>\n",
       "      <th>sensortype</th>\n",
       "      <th>srtDate</th>\n",
       "      <th>absolute_humidity</th>\n",
       "      <th>back_front</th>\n",
       "      <th>battery_level</th>\n",
       "      <th>device_temperature</th>\n",
       "      <th>dew_point</th>\n",
       "      <th>environmental_temperature</th>\n",
       "      <th>movement_level</th>\n",
       "      <th>orientation</th>\n",
       "      <th>position</th>\n",
       "      <th>posture_tilt</th>\n",
       "      <th>pressure</th>\n",
       "      <th>regular</th>\n",
       "      <th>relative_humidity</th>\n",
       "      <th>sequence_number</th>\n",
       "      <th>Unnamed: 17</th>\n",
       "    </tr>\n",
       "  </thead>\n",
       "  <tbody>\n",
       "    <tr>\n",
       "      <th>0</th>\n",
       "      <td>jzp://edv#0192.0000</td>\n",
       "      <td>Environmental</td>\n",
       "      <td>2019-04-01T02:01:27.365+02:00</td>\n",
       "      <td>8.566832</td>\n",
       "      <td>0.0</td>\n",
       "      <td>3.55</td>\n",
       "      <td>6.0</td>\n",
       "      <td>9.246959</td>\n",
       "      <td>21.704826</td>\n",
       "      <td>0.0</td>\n",
       "      <td>0.0</td>\n",
       "      <td>0.0</td>\n",
       "      <td>0.0</td>\n",
       "      <td>101341.0</td>\n",
       "      <td>0.0</td>\n",
       "      <td>45.0</td>\n",
       "      <td>88.0</td>\n",
       "      <td>NaN</td>\n",
       "    </tr>\n",
       "    <tr>\n",
       "      <th>1</th>\n",
       "      <td>jzp://edv#0192.0000</td>\n",
       "      <td>Environmental</td>\n",
       "      <td>2019-04-01T02:03:28.019+02:00</td>\n",
       "      <td>8.566832</td>\n",
       "      <td>0.0</td>\n",
       "      <td>3.55</td>\n",
       "      <td>6.0</td>\n",
       "      <td>9.246959</td>\n",
       "      <td>21.704826</td>\n",
       "      <td>0.0</td>\n",
       "      <td>0.0</td>\n",
       "      <td>0.0</td>\n",
       "      <td>0.0</td>\n",
       "      <td>101337.0</td>\n",
       "      <td>0.0</td>\n",
       "      <td>45.0</td>\n",
       "      <td>89.0</td>\n",
       "      <td>NaN</td>\n",
       "    </tr>\n",
       "    <tr>\n",
       "      <th>2</th>\n",
       "      <td>jzp://edv#0192.0000</td>\n",
       "      <td>Environmental</td>\n",
       "      <td>2019-04-01T02:05:27.639+02:00</td>\n",
       "      <td>8.566832</td>\n",
       "      <td>0.0</td>\n",
       "      <td>3.55</td>\n",
       "      <td>6.0</td>\n",
       "      <td>9.246959</td>\n",
       "      <td>21.704826</td>\n",
       "      <td>0.0</td>\n",
       "      <td>0.0</td>\n",
       "      <td>0.0</td>\n",
       "      <td>0.0</td>\n",
       "      <td>101330.0</td>\n",
       "      <td>0.0</td>\n",
       "      <td>45.0</td>\n",
       "      <td>90.0</td>\n",
       "      <td>NaN</td>\n",
       "    </tr>\n",
       "    <tr>\n",
       "      <th>3</th>\n",
       "      <td>jzp://edv#0192.0000</td>\n",
       "      <td>Environmental</td>\n",
       "      <td>2019-04-01T02:07:28.219+02:00</td>\n",
       "      <td>8.566832</td>\n",
       "      <td>0.0</td>\n",
       "      <td>3.55</td>\n",
       "      <td>6.0</td>\n",
       "      <td>9.246959</td>\n",
       "      <td>21.704826</td>\n",
       "      <td>0.0</td>\n",
       "      <td>0.0</td>\n",
       "      <td>0.0</td>\n",
       "      <td>0.0</td>\n",
       "      <td>101336.0</td>\n",
       "      <td>0.0</td>\n",
       "      <td>45.0</td>\n",
       "      <td>91.0</td>\n",
       "      <td>NaN</td>\n",
       "    </tr>\n",
       "    <tr>\n",
       "      <th>4</th>\n",
       "      <td>jzp://edv#0192.0000</td>\n",
       "      <td>Environmental</td>\n",
       "      <td>2019-04-01T02:09:28.607+02:00</td>\n",
       "      <td>8.566832</td>\n",
       "      <td>0.0</td>\n",
       "      <td>3.55</td>\n",
       "      <td>6.0</td>\n",
       "      <td>9.246959</td>\n",
       "      <td>21.704826</td>\n",
       "      <td>0.0</td>\n",
       "      <td>0.0</td>\n",
       "      <td>0.0</td>\n",
       "      <td>0.0</td>\n",
       "      <td>101335.0</td>\n",
       "      <td>0.0</td>\n",
       "      <td>45.0</td>\n",
       "      <td>92.0</td>\n",
       "      <td>NaN</td>\n",
       "    </tr>\n",
       "  </tbody>\n",
       "</table>\n",
       "</div>"
      ],
      "text/plain": [
       "              idsensor     sensortype                        srtDate  \\\n",
       "0  jzp://edv#0192.0000  Environmental  2019-04-01T02:01:27.365+02:00   \n",
       "1  jzp://edv#0192.0000  Environmental  2019-04-01T02:03:28.019+02:00   \n",
       "2  jzp://edv#0192.0000  Environmental  2019-04-01T02:05:27.639+02:00   \n",
       "3  jzp://edv#0192.0000  Environmental  2019-04-01T02:07:28.219+02:00   \n",
       "4  jzp://edv#0192.0000  Environmental  2019-04-01T02:09:28.607+02:00   \n",
       "\n",
       "   absolute_humidity  back_front  battery_level  device_temperature  \\\n",
       "0           8.566832         0.0           3.55                 6.0   \n",
       "1           8.566832         0.0           3.55                 6.0   \n",
       "2           8.566832         0.0           3.55                 6.0   \n",
       "3           8.566832         0.0           3.55                 6.0   \n",
       "4           8.566832         0.0           3.55                 6.0   \n",
       "\n",
       "   dew_point  environmental_temperature  movement_level  orientation  \\\n",
       "0   9.246959                  21.704826             0.0          0.0   \n",
       "1   9.246959                  21.704826             0.0          0.0   \n",
       "2   9.246959                  21.704826             0.0          0.0   \n",
       "3   9.246959                  21.704826             0.0          0.0   \n",
       "4   9.246959                  21.704826             0.0          0.0   \n",
       "\n",
       "   position  posture_tilt  pressure  regular  relative_humidity  \\\n",
       "0       0.0           0.0  101341.0      0.0               45.0   \n",
       "1       0.0           0.0  101337.0      0.0               45.0   \n",
       "2       0.0           0.0  101330.0      0.0               45.0   \n",
       "3       0.0           0.0  101336.0      0.0               45.0   \n",
       "4       0.0           0.0  101335.0      0.0               45.0   \n",
       "\n",
       "   sequence_number  Unnamed: 17  \n",
       "0             88.0          NaN  \n",
       "1             89.0          NaN  \n",
       "2             90.0          NaN  \n",
       "3             91.0          NaN  \n",
       "4             92.0          NaN  "
      ]
     },
     "execution_count": 27,
     "metadata": {},
     "output_type": "execute_result"
    }
   ],
   "source": [
    "#first of all import dataset in jupyter notebook, then I show the columns\n",
    "#of my dataset\n",
    "\n",
    "import pandas as pd\n",
    "\n",
    "data = pd.read_csv('Environmental_original.csv', delimiter = \";\")\n",
    "col_names = data.columns.tolist()\n",
    "print(\"Columns name: \")\n",
    "print(col_names)\n",
    "print('\\nSample data: ')\n",
    "data.head()"
   ]
  },
  {
   "cell_type": "code",
   "execution_count": 17,
   "metadata": {},
   "outputs": [
    {
     "data": {
      "text/plain": [
       "idsensor                      object\n",
       "sensortype                    object\n",
       "srtDate                       object\n",
       "absolute_humidity            float64\n",
       "back_front                   float64\n",
       "battery_level                float64\n",
       "device_temperature           float64\n",
       "dew_point                    float64\n",
       "environmental_temperature    float64\n",
       "movement_level               float64\n",
       "orientation                  float64\n",
       "position                     float64\n",
       "posture_tilt                 float64\n",
       "pressure                     float64\n",
       "regular                      float64\n",
       "relative_humidity            float64\n",
       "sequence_number              float64\n",
       "Unnamed: 17                  float64\n",
       "dtype: object"
      ]
     },
     "execution_count": 17,
     "metadata": {},
     "output_type": "execute_result"
    }
   ],
   "source": [
    "#The type of the columns can be found out as follows:\n",
    "\n",
    "data.dtypes"
   ]
  },
  {
   "cell_type": "code",
   "execution_count": 18,
   "metadata": {},
   "outputs": [
    {
     "data": {
      "text/plain": [
       "idsensor                     False\n",
       "sensortype                   False\n",
       "srtDate                      False\n",
       "absolute_humidity            False\n",
       "back_front                   False\n",
       "battery_level                False\n",
       "device_temperature            True\n",
       "dew_point                     True\n",
       "environmental_temperature     True\n",
       "movement_level                True\n",
       "orientation                   True\n",
       "position                      True\n",
       "posture_tilt                  True\n",
       "pressure                      True\n",
       "regular                       True\n",
       "relative_humidity             True\n",
       "sequence_number               True\n",
       "Unnamed: 17                   True\n",
       "dtype: bool"
      ]
     },
     "execution_count": 18,
     "metadata": {},
     "output_type": "execute_result"
    }
   ],
   "source": [
    "# Our data is pretty clean\n",
    "\n",
    "data.isnull().any()"
   ]
  },
  {
   "cell_type": "code",
   "execution_count": 19,
   "metadata": {},
   "outputs": [
    {
     "data": {
      "text/plain": [
       "(18871, 18)"
      ]
     },
     "execution_count": 19,
     "metadata": {},
     "output_type": "execute_result"
    }
   ],
   "source": [
    "#Data contains 18871 rows and 1 feature\n",
    "\n",
    "data.shape"
   ]
  },
  {
   "cell_type": "code",
   "execution_count": 20,
   "metadata": {},
   "outputs": [
    {
     "data": {
      "text/plain": [
       "array([ 8.56683159,  8.54565239,  3.55      ,  8.52451897,  8.50342941,\n",
       "        8.48238564,  8.46138573,  8.4404335 ,  8.62799931,  8.60662651,\n",
       "        8.58529758,  8.56401634,  8.54277992,  8.52159023,  8.35706615,\n",
       "        8.37784195,  8.39866066,  8.21202469,  8.23242378,  8.25286865,\n",
       "        8.27335644,  8.08532524,  8.1053915 ,  8.12549973,  8.14565182,\n",
       "        8.16584587,  8.18608475,  7.9957099 ,  8.0155201 ,  8.03537273,\n",
       "        8.05526733,  8.24705982,  8.26747036,  8.28792667,  8.30842686,\n",
       "        8.328969  ,  8.34955692,  8.37018776,  8.39086437,  8.97795963,\n",
       "        8.95590305,  9.15492439,  9.17747116,  9.20006371,  9.22270584,\n",
       "        9.24539471,  9.26813412,  9.29092121,  9.46961498,  9.44638157,\n",
       "        9.4231987 ,  9.40006447,  9.37698078,  9.35394382,  9.33095646,\n",
       "        9.52948761,  9.50606251,  9.48268604,  9.45935917,  9.43608284,\n",
       "        9.41285133,  9.38967323,  9.36654568,  9.34346581,  9.53812122,\n",
       "        9.51461124,  9.49115086,  9.46774197,  9.44438267,  9.4210701 ,\n",
       "        9.39781284,  9.37460136,  9.35143948,  9.32832909,  9.30526638,\n",
       "        9.28225422,  9.47168827,  9.27452278,  9.29745388,  9.32043457,\n",
       "        9.55296421,  9.57649136,  9.60006618,  9.62369251,  9.64736843,\n",
       "        9.67109585,  9.69487286,  9.71869946,  9.74257755,  9.7665081 ,\n",
       "        9.79048634,  9.81451797,  9.83860016,  9.86273289,  9.88691616,\n",
       "        9.91114998,  9.9354353 ,  9.95977497,  9.98416328, 10.008605  ,\n",
       "       10.03309917, 10.21711731, 10.19216728, 10.16727161, 10.14242458,\n",
       "       10.11763191, 10.09289455, 10.06820583,  9.92117214,  9.89684963,\n",
       "        9.87257671,  9.84835529,  9.82418537,  9.80006695,  9.77600193,\n",
       "        9.75198364,  9.72801971,  9.70410538,  9.9021492 ,  9.87779808,\n",
       "        9.85349941,  9.8292532 ,  9.80505371,  9.78090954,  9.75681877,\n",
       "        9.73277664,  9.70878696,  9.68484688,  9.66096115,  9.63712502,\n",
       "        9.82986736,  9.80560398,  9.78139687,  9.75723743,  9.73313046,\n",
       "        9.70907688,  9.51870251,  9.54228592,  9.56591892,  9.58960438,\n",
       "        9.12625885,  9.14881039,  9.17140865,  9.1940546 ,  9.21675014,\n",
       "        9.23949814,  9.26229   ,  9.2851305 ,  9.30801868,  9.0666523 ,\n",
       "        9.08894253,  9.11127949,  8.93069649,  8.90880775,  8.88696671,\n",
       "        8.86517143,  8.84342194,  8.82171822,  8.80006123,  8.77845001,\n",
       "        8.75688457,  8.73536491,  8.71389103,  8.69246197,  8.67108059,\n",
       "        8.64974213,  8.62844753,  8.60720062,  8.58600044,  8.56484318,\n",
       "        8.54373264,  8.52266598,  8.50164604,  8.48066998,  8.45973682,\n",
       "        8.43885231,  8.4180088 ,  8.22669125,  8.20636654,  8.41158295,\n",
       "        8.43234634,  8.45315742,  8.47401047,  8.49490643,  8.29734993,\n",
       "        8.31780529,  8.51584816,  8.33830357,  8.3588438 ,  8.37943077,\n",
       "        8.40005779,  8.42073059,  8.44144821,  8.4622097 ,  8.48301411,\n",
       "        8.50386238,  8.52475548,  8.54569435,  8.56667614,  8.36270809,\n",
       "        8.58770466,  8.38323402,  8.40380383,  8.4244175 ,  8.44507408,\n",
       "        8.65105247,  8.46577358,  8.48651791,  8.6298914 ,  8.60877514,\n",
       "        8.27693939,  8.25657177,  8.39721107,  8.37645912,  8.35574913,\n",
       "        8.53683376,  8.55786419,  8.57894039,  8.60005856,  8.6212244 ,\n",
       "        8.64243507,  8.66369057,  8.68499088,  8.70633507,  8.72772598,\n",
       "        8.74916363,  8.77064419,  8.79217339,  8.8137455 ,  8.83536434,\n",
       "        8.85702896,  8.8787384 ,  8.90049458,  8.92229843,  8.94414711,\n",
       "        8.96604156,  8.98798561,  8.80044079,  8.82196331,  8.84352779,\n",
       "        8.77896214,  8.75752926,  8.73614311,  8.7148037 ,  8.69350624,\n",
       "        8.67225647,  8.8028183 ,  8.78113651,  8.7594986 ,  8.73790741,\n",
       "        8.716362  ,  8.69486523,  8.67341137,  8.65200329,  8.63064289,\n",
       "        8.60932732,  8.58805656,  8.91193295,  9.02221012,  9.00006104,\n",
       "        9.68024254, 10.07535362, 10.05057049, 10.0258379 ,  9.61333656,\n",
       "        9.49516964,  9.49289608,  9.51622581,  9.539608  ,  9.3595705 ,\n",
       "        9.38255024,  9.40558052,  9.42865944,  9.45178604,  9.47496223,\n",
       "        9.49818611,  9.52145958,  9.54478455,  9.56815815,  9.59158039,\n",
       "        9.61505413,  9.63857746,  9.66215038,  9.68576908,  9.70943928,\n",
       "        9.73316002,  9.75693226,  9.78075314,  9.8046236 ,  9.82854652,\n",
       "        9.85251808,  9.87653923,  9.90061283,  9.92473602,  9.94891167,\n",
       "        9.97313595,  9.99741173,  9.94474983,  9.92051315,  9.89632893,\n",
       "        9.8721962 ,  9.84811115,  9.82407665,  9.80009174,  9.77616024,\n",
       "        9.75228024,  9.72844696,  9.70466709,  9.92655087,  9.85418034,\n",
       "        9.56168175,  9.58529091,  9.60895252,  9.63266754,  9.65642929,\n",
       "       10.04357052, 10.01898766,  9.99445534,  9.96997643,  9.94554901,\n",
       "       10.22345734, 10.24854183, 10.27367973, 10.29887199, 10.3241148 ,\n",
       "       10.34941196, 10.3747673 , 10.24212265, 10.19842339, 10.1734457 ,\n",
       "       10.14851856, 10.12364578, 10.09882545, 10.07405853, 10.04934311,\n",
       "       10.25032997, 10.225173  , 10.20007038, 10.17502213, 10.15002441,\n",
       "       10.12508202, 10.10019207, 10.0011549 ,  9.97652817,  9.95195484,\n",
       "        9.92743301,  9.90296268,  9.87854481, 10.2755394 , 10.30080223,\n",
       "       10.32611847, 10.35148907, 10.19725513, 10.17214584, 10.14709091,\n",
       "       10.12208748, 10.09713745, 10.29131317, 10.26593781, 10.24061871,\n",
       "       10.07224083, 10.3167429 , 10.34222698, 10.36776447, 10.2224226 ,\n",
       "       10.2476387 , 10.27291012, 10.29823399, 10.32361221, 10.34904385,\n",
       "       10.37453175, 10.40007114, 10.42566586, 10.45131588, 10.47702026,\n",
       "       10.50277805, 10.37691498, 10.40239143, 10.42792606, 10.45351219,\n",
       "       10.47915363,  9.20111084,  9.15610027,  9.04440784, 10.40017128,\n",
       "       10.60817432, 10.63414192, 10.66016865, 10.68624878, 10.92242908,\n",
       "       10.9491291 , 10.9758873 , 11.21429253, 11.24168205, 11.26912785,\n",
       "       11.48175335, 11.50977516, 11.53785992, 11.56599903, 11.59419823,\n",
       "       11.62245846, 10.52066135,  9.40121841,  9.12061024,  8.34050369,\n",
       "        8.27953053,  8.26072788,  8.93389511,  9.31375408,  9.3366375 ,\n",
       "        9.58651829,  9.61004925,  9.63362885,  9.65725994,  9.68093872,\n",
       "        9.56303883,  9.10375595,  9.08130264,  9.05889702,  8.86615562,\n",
       "        8.84427071,  8.82243633,  8.80064678,  8.77890301,  8.75720596,\n",
       "        8.73555565,  8.71395397,  8.69239521, 10.26717949, 10.29228973,\n",
       "       10.31744957, 10.34266376,  9.17455482,  9.04083824,  9.17858028,\n",
       "        8.97461319,  8.9526329 ,  9.22368622,  9.42904282,  9.00997353,\n",
       "        8.21894455,  7.99386168,  8.17876625,  8.15874004,  8.13875771,\n",
       "        7.91584492,  7.89644289,  8.09891701,  8.07906151,  8.05924797,\n",
       "        8.28103733,  8.30138874,  8.32178593,  8.34222507,  9.03200912,\n",
       "        9.24205589,  9.21950912,  9.19700909,  9.40603065,  8.88136005,\n",
       "        8.83744812,  8.81556416,  8.77193451,  8.72849274,  8.70684147,\n",
       "        8.8920927 ,  8.68523502,  8.87002754,  8.9142046 ,  8.93636417,\n",
       "        8.95857143,  8.98082542,  9.00312901,  9.02547932,  9.07032585,\n",
       "        9.09282112,  9.11536217,  9.13795376,  9.16059399,  9.18328285,\n",
       "        9.2060194 ,  9.22880363,  9.25163937, 10.0576458 , 10.08224297,\n",
       "       10.10688877, 10.13158798, 10.1563406 , 10.18114662, 10.20600224,\n",
       "       10.2309103 , 10.25587368, 10.2808876 , 10.30595303, 10.33107376,\n",
       "       10.14048958, 10.11584282, 10.02173996, 10.04611874, 10.0705471 ,\n",
       "       10.09502697, 10.11956024,  9.89956856,  9.87556839,  9.85162163,\n",
       "        9.60933113,  9.58601189,  9.56274128,  9.53952122,  9.30006886,\n",
       "        9.27746964,  9.25492001,  9.23241711,  9.20996189,  8.97388935,\n",
       "        8.95204639,  8.93025208,  8.90850258,  8.8867979 ,  8.86513996,\n",
       "        9.26464844,  9.28728867,  9.30997944,  9.3327179 ,  9.35550308,\n",
       "        9.378335  ,  9.59147835,  9.61488152,  9.63833141,  9.6618309 ,\n",
       "        9.68538094, 10.1441431 , 10.16877747, 10.19346333, 10.21820545,\n",
       "       10.24299908, 10.26784134, 10.29273319, 10.3176775 , 10.34267807,\n",
       "       10.36772823, 10.3928318 , 10.41798782, 10.44319439, 10.46845627,\n",
       "       10.14234257, 10.11783695, 10.09337997, 10.06897831, 10.23960304,\n",
       "       10.21474648, 10.18994236, 10.16519165, 10.0912466 , 10.06670189,\n",
       "       10.04221058, 10.017766  ,  9.99337769,  9.96903896,  9.08757496,\n",
       "        9.10997772,  9.13242722,  9.56812763,  9.54482365,  9.09838867,\n",
       "        9.45210266,  9.38306618,  9.3601532 ,  9.33728886,  9.31447029,\n",
       "       10.26451206, 10.02468014, 10.00006962,  9.9755125 ,  9.95100403,\n",
       "       10.2153511 , 10.40809536, 10.38240433, 10.35677338, 10.33119297,\n",
       "       10.43383789, 10.45963573, 10.48548985, 10.51139927, 10.53736401,\n",
       "       10.5633831 , 10.58945847, 10.61559391, 10.64178085, 10.44470882,\n",
       "       10.47046566, 10.49627781, 10.52214336, 10.54806423, 10.57404137,\n",
       "       10.60007286, 10.62615871, 10.65230274, 10.67850208, 10.85329056,\n",
       "       10.82665443, 10.80007458, 10.77355385, 10.74708462, 10.72067547,\n",
       "       10.69432068, 10.66802216, 10.83885002, 10.81217861, 10.78555965,\n",
       "       10.75900078,  3.5       , 10.73250103, 10.70605469, 10.39335632,\n",
       "       10.4190073 , 10.70475578, 10.73106289, 10.75742912, 10.78385258,\n",
       "       10.81032848, 10.83686447, 10.86345387, 10.89010048, 10.91680431,\n",
       "       10.9435606 , 10.97037697, 11.17736626, 11.38435364, 11.15004444,\n",
       "       11.12278175, 11.09557438, 11.06842613, 11.04133415, 11.01429844,\n",
       "       10.98732185, 10.96040058, 11.16337109, 11.13601017, 11.10871029,\n",
       "       11.08146572, 11.05427742, 11.02714825, 11.00007629, 10.97306347,\n",
       "       10.946105  , 11.14512444, 11.11773682, 11.09040642, 10.91920662,\n",
       "       11.19079113, 11.21826744, 11.20474815, 11.23218536, 11.25967979,\n",
       "       11.28723812, 11.31485176, 11.34252357, 11.32876015, 11.30104828,\n",
       "       11.27339649, 11.24580383, 11.33848286, 11.31068611, 11.28294563,\n",
       "       11.25526428, 11.22764015, 11.20007706, 11.36634064, 11.39426041,\n",
       "       11.42223454, 11.45027161, 11.47836685, 11.50652218, 11.53473663,\n",
       "       11.56300831, 11.59134102, 11.61973858, 11.4122448 , 11.44018841,\n",
       "       11.46819305, 11.49626064, 11.35652637, 11.17257309, 11.3702507 ,\n",
       "       11.39803696, 11.42588425, 11.45378971, 11.29662991, 11.32419395,\n",
       "       11.35181332, 11.3794899 , 11.40722656, 11.43502045, 11.46287537,\n",
       "       11.49078655, 11.51875687, 11.30142021, 11.27397919, 11.24659443,\n",
       "       11.21926498, 11.19199562, 11.16478252, 11.1376276 , 11.1105299 ,\n",
       "       11.0834856 , 11.0565033 , 11.02957439, 11.00270271, 11.18696213,\n",
       "       11.15968895, 11.13247681, 11.10531712, 11.07821465, 11.05116653,\n",
       "       11.02418041, 10.99725151, 10.93353748, 10.90673256, 10.8799839 ,\n",
       "       10.02260876, 10.04739857, 10.30566883, 10.28019905, 10.08982372,\n",
       "       10.11482239,  9.9239769 , 10.13987446, 10.16497993,  9.9731884 ,\n",
       "       10.19013691,  9.99787045, 10.5285902 , 10.55445862, 10.5803833 ,\n",
       "       10.60636044, 10.63239574, 10.65848351, 10.68462658, 10.71082687,\n",
       "       10.50484943, 10.53059769, 10.5564003 , 10.58226109])"
      ]
     },
     "execution_count": 20,
     "metadata": {},
     "output_type": "execute_result"
    }
   ],
   "source": [
    "data['absolute_humidity'].unique()"
   ]
  },
  {
   "cell_type": "code",
   "execution_count": 55,
   "metadata": {},
   "outputs": [],
   "source": [
    "import matplotlib as mpl\n",
    "import matplotlib.pyplot as plt\n",
    "import datetime\n",
    "import time\n",
    "import pandas as pd\n",
    "\n",
    "plt.ion()\n",
    "\n",
    "mpl.rcParams['axes.labelsize'] = 20\n",
    "mpl.rcParams['axes.titlesize'] = 24\n",
    "mpl.rcParams['figure.figsize'] = (8, 4)\n",
    "mpl.rcParams['xtick.labelsize'] = 14\n",
    "mpl.rcParams['ytick.labelsize'] = 14\n",
    "mpl.rcParams['legend.fontsize'] = 14"
   ]
  },
  {
   "cell_type": "code",
   "execution_count": 22,
   "metadata": {},
   "outputs": [],
   "source": [
    "# Load and sort the dataframe by srtDate.\n",
    "\n",
    "#data = pd.read_csv('Environmental_original.csv', delimiter = \";\")\n",
    "#data.set_index('srtDate', inplace=True)\n",
    "#data.index = pd.to_datetime(data.index)\n",
    "#data.sort_index(inplace=True)\n",
    "#data.head()"
   ]
  },
  {
   "cell_type": "code",
   "execution_count": 23,
   "metadata": {},
   "outputs": [
    {
     "name": "stdout",
     "output_type": "stream",
     "text": [
      "0         8.566832\n",
      "1         8.566832\n",
      "2         8.566832\n",
      "3         8.566832\n",
      "4         8.566832\n",
      "5         8.566832\n",
      "6         8.566832\n",
      "7         8.566832\n",
      "8         8.545652\n",
      "9         8.545652\n",
      "10        8.545652\n",
      "11        8.545652\n",
      "12        8.545652\n",
      "13        8.545652\n",
      "14        8.545652\n",
      "15        8.545652\n",
      "16        3.550000\n",
      "17        8.545652\n",
      "18        8.545652\n",
      "19        8.524519\n",
      "20        8.524519\n",
      "21        8.524519\n",
      "22        8.524519\n",
      "23        8.524519\n",
      "24        8.524519\n",
      "25        8.524519\n",
      "26        8.524519\n",
      "27        8.524519\n",
      "28        8.524519\n",
      "29        8.524519\n",
      "           ...    \n",
      "18841    10.425666\n",
      "18842    10.425666\n",
      "18843    10.425666\n",
      "18844    10.425666\n",
      "18845    10.425666\n",
      "18846    10.425666\n",
      "18847    10.425666\n",
      "18848    10.425666\n",
      "18849    10.400071\n",
      "18850    10.400071\n",
      "18851    10.400071\n",
      "18852    10.400071\n",
      "18853    10.400071\n",
      "18854    10.400071\n",
      "18855    10.400071\n",
      "18856    10.400071\n",
      "18857    10.400071\n",
      "18858    10.400071\n",
      "18859    10.400071\n",
      "18860    10.400071\n",
      "18861    10.400071\n",
      "18862    10.400071\n",
      "18863    10.400071\n",
      "18864    10.374532\n",
      "18865    10.374532\n",
      "18866    10.374532\n",
      "18867    10.374532\n",
      "18868    10.374532\n",
      "18869    10.374532\n",
      "18870    10.374532\n",
      "Name: absolute_humidity, Length: 18871, dtype: float64\n"
     ]
    }
   ],
   "source": [
    "# Vediamo l'umidità in funzione del tempo\n",
    "\n",
    "graph1 = data[\"absolute_humidity\"]\n",
    "print(graph1)"
   ]
  },
  {
   "cell_type": "code",
   "execution_count": 56,
   "metadata": {},
   "outputs": [
    {
     "data": {
      "image/png": "[encoded data removed]",
      "text/plain": [
       "<Figure size 576x288 with 1 Axes>"
      ]
     },
     "metadata": {
      "needs_background": "light"
     },
     "output_type": "display_data"
    }
   ],
   "source": [
    "#Vediamo con un grafico come varia l'umidità in funzione del tempo\n",
    "\n",
    "import matplotlib as mpl\n",
    "import matplotlib.pyplot as plt\n",
    "\n",
    "variazione_umidità = graph1.plot()\n",
    "#graph1.label('Time');"
   ]
  },
  {
   "cell_type": "code",
   "execution_count": 57,
   "metadata": {},
   "outputs": [
    {
     "data": {
      "text/plain": [
       "{'name': 'mlflow-env',\n",
       " 'channels': ['defaults'],\n",
       " 'dependencies': ['python=3.7.3', 'scikit-learn=0.20.3', {'pip': ['mlflow']}]}"
      ]
     },
     "execution_count": 57,
     "metadata": {},
     "output_type": "execute_result"
    }
   ],
   "source": [
    "import mlflow\n",
    "\n",
    "# Log parameters (key-value pairs)\n",
    "mlflow.log_param(\"num_dimensions\", 8)\n",
    "mlflow.log_param(\"regularization\", 0.1)\n",
    "\n",
    "# Log a metric; metrics can be updated throughout the run\n",
    "mlflow.log_metric(\"accuracy\", 0.1)\n",
    "...\n",
    "mlflow.log_metric(\"accuracy\", 0.45)\n",
    "\n",
    "# Log artifacts (output files)\n",
    "mlflow.log_artifact(\"Environmental_original.csv\")\n",
    "\n",
    "mlflow.sklearn.get_default_conda_env(include_cloudpickle=False)"
   ]
  },
  {
   "cell_type": "code",
   "execution_count": 30,
   "metadata": {},
   "outputs": [
    {
     "name": "stdout",
     "output_type": "stream",
     "text": [
      "0        21.704826\n",
      "1        21.704826\n",
      "2        21.704826\n",
      "3        21.704826\n",
      "4        21.704826\n",
      "5        21.704826\n",
      "6        21.704826\n",
      "7        21.704826\n",
      "8        21.661926\n",
      "9        21.661926\n",
      "10       21.661926\n",
      "11       21.661926\n",
      "12       21.661926\n",
      "13       21.661926\n",
      "14       21.661926\n",
      "15       21.661926\n",
      "16             NaN\n",
      "17       21.661926\n",
      "18       21.661926\n",
      "19       21.619026\n",
      "20       21.619026\n",
      "21       21.619026\n",
      "22       21.619026\n",
      "23       21.619026\n",
      "24       21.619026\n",
      "25       21.619026\n",
      "26       21.619026\n",
      "27       21.619026\n",
      "28       21.619026\n",
      "29       21.619026\n",
      "           ...    \n",
      "18841    22.605736\n",
      "18842    22.605736\n",
      "18843    22.605736\n",
      "18844    22.605736\n",
      "18845    22.605736\n",
      "18846    22.605736\n",
      "18847    22.605736\n",
      "18848    22.605736\n",
      "18849    22.562836\n",
      "18850    22.562836\n",
      "18851    22.562836\n",
      "18852    22.562836\n",
      "18853    22.562836\n",
      "18854    22.562836\n",
      "18855    22.562836\n",
      "18856    22.562836\n",
      "18857    22.562836\n",
      "18858    22.562836\n",
      "18859    22.562836\n",
      "18860    22.562836\n",
      "18861    22.562836\n",
      "18862    22.562836\n",
      "18863    22.562836\n",
      "18864    22.519936\n",
      "18865    22.519936\n",
      "18866    22.519936\n",
      "18867    22.519936\n",
      "18868    22.519936\n",
      "18869    22.519936\n",
      "18870    22.519936\n",
      "Name: environmental_temperature, Length: 18871, dtype: float64\n"
     ]
    }
   ],
   "source": [
    "# How to evolve the environmental temperature over time (in this case is represented by case id) \n",
    "\n",
    "graph2 = data['environmental_temperature']\n",
    "print(graph2)"
   ]
  },
  {
   "cell_type": "code",
   "execution_count": 31,
   "metadata": {},
   "outputs": [
    {
     "data": {
      "image/png": "[encoded data removed]",
      "text/plain": [
       "<Figure size 576x288 with 1 Axes>"
      ]
     },
     "metadata": {
      "needs_background": "light"
     },
     "output_type": "display_data"
    }
   ],
   "source": [
    "# a graph that show the evolution of environmental temperature over time\n",
    "\n",
    "variazione_umidità = graph2.plot();"
   ]
  },
  {
   "cell_type": "code",
   "execution_count": 42,
   "metadata": {},
   "outputs": [
    {
     "name": "stdout",
     "output_type": "stream",
     "text": [
      "[[ 8.56683159]\n",
      " [ 8.56683159]\n",
      " [ 8.56683159]\n",
      " ...\n",
      " [10.37453175]\n",
      " [10.37453175]\n",
      " [10.37453175]]\n",
      "['2019-04-01T02:01:27.365+02:00' '2019-04-01T02:03:28.019+02:00'\n",
      " '2019-04-01T02:05:27.639+02:00' ... '2019-05-01T01:55:40.399+02:00'\n",
      " '2019-05-01T01:57:40.143+02:00' '2019-05-01T01:59:41.066+02:00']\n"
     ]
    }
   ],
   "source": [
    "#importo tutte le librerie che mi servono\n",
    "import datetime\n",
    "import time\n",
    "import matplotlib as mpl\n",
    "import matplotlib.pyplot as plt\n",
    "import numpy as np\n",
    "import pandas as pd\n",
    "from sklearn.linear_model import LinearRegression\n",
    "\n",
    "#leggo il file csv \n",
    "data = pd.read_csv('Environmental_original.csv', delimiter = \";\")\n",
    "#definisco la mia x e la mia y\n",
    "#prendo la colonna \"environmental_temperature\" del mio DataSet e la metto in un array \n",
    "#Questo perchè la regressione lineare vuole la variabile x come un array bidimensionale.\n",
    "#vuole dire che lo devo vedere come una colonna e molte righe. tratto come array anche y ma monodimensionale.\n",
    "x = np.array(data['absolute_humidity']).reshape((-1, 1))\n",
    "y = np.array(data['srtDate'])\n",
    "\n",
    "print(x)\n",
    "print(y)\n"
   ]
  },
  {
   "cell_type": "code",
   "execution_count": 54,
   "metadata": {},
   "outputs": [
    {
     "ename": "AttributeError",
     "evalue": "'LinearRegression' object has no attribute 'LinearRegression'",
     "output_type": "error",
     "traceback": [
      "\u001b[0;31m---------------------------------------------------------------------------\u001b[0m",
      "\u001b[0;31mAttributeError\u001b[0m                            Traceback (most recent call last)",
      "\u001b[0;32m<ipython-input-54-26072831ce5a>\u001b[0m in \u001b[0;36m<module>\u001b[0;34m\u001b[0m\n\u001b[1;32m     14\u001b[0m \u001b[0;31m#log model\u001b[0m\u001b[0;34m\u001b[0m\u001b[0;34m\u001b[0m\u001b[0;34m\u001b[0m\u001b[0m\n\u001b[1;32m     15\u001b[0m \u001b[0mmlflow\u001b[0m\u001b[0;34m.\u001b[0m\u001b[0msklearn\u001b[0m\u001b[0;34m.\u001b[0m\u001b[0mlog_model\u001b[0m\u001b[0;34m(\u001b[0m\u001b[0msk_model\u001b[0m\u001b[0;34m,\u001b[0m \u001b[0;34m\"sk_models\"\u001b[0m\u001b[0;34m)\u001b[0m\u001b[0;34m\u001b[0m\u001b[0;34m\u001b[0m\u001b[0m\n\u001b[0;32m---> 16\u001b[0;31m \u001b[0msk_model_regression\u001b[0m \u001b[0;34m=\u001b[0m \u001b[0mmodel\u001b[0m\u001b[0;34m.\u001b[0m\u001b[0mLinearRegression\u001b[0m\u001b[0;34m\u001b[0m\u001b[0;34m\u001b[0m\u001b[0m\n\u001b[0m\u001b[1;32m     17\u001b[0m \u001b[0;34m\u001b[0m\u001b[0m\n\u001b[1;32m     18\u001b[0m \u001b[0;31m#mlflow.active_run()\u001b[0m\u001b[0;34m\u001b[0m\u001b[0;34m\u001b[0m\u001b[0;34m\u001b[0m\u001b[0m\n",
      "\u001b[0;31mAttributeError\u001b[0m: 'LinearRegression' object has no attribute 'LinearRegression'"
     ]
    }
   ],
   "source": [
    "import mlflow\n",
    "import mlflow.sklearn\n",
    "from sklearn import tree\n",
    "from sklearn.linear_model import LinearRegression\n",
    "from matplotlib import *\n",
    "\n",
    "mlflow.start_run(nested=True)\n",
    "sk_model_tree = tree.DecisionTreeClassifier()\n",
    "sk_model = sk_model_tree.fit(x, y)\n",
    "#set the artifact_path to location where experiment artifacts will be saved\n",
    "#log model params\n",
    "#mlflow.log_param(\"criterion\", sk_model.criterion)\n",
    "#mlflow.log_param(\"splitter\", sk_model.splitter)\n",
    "#log model\n",
    "mlflow.sklearn.log_model(sk_model, \"sk_models\")\n",
    "sk_model_regression = model.LinearRegression\n",
    "\n",
    "#mlflow.active_run()\n",
    "print(sk_model)\n",
    "print(sk_model_regression)\n",
    "plot(sk_model_regression)"
   ]
  },
  {
   "cell_type": "code",
   "execution_count": 34,
   "metadata": {},
   "outputs": [
    {
     "ename": "ValueError",
     "evalue": "Invalid frequency: 0        2019-04-01T02:01:27.365+02:00\n1        2019-04-01T02:03:28.019+02:00\n2        2019-04-01T02:05:27.639+02:00\n3        2019-04-01T02:07:28.219+02:00\n4        2019-04-01T02:09:28.607+02:00\n5        2019-04-01T02:11:28.693+02:00\n6        2019-04-01T02:13:28.806+02:00\n7        2019-04-01T02:15:29.278+02:00\n8        2019-04-01T02:17:29.344+02:00\n9        2019-04-01T02:19:29.825+02:00\n10       2019-04-01T02:21:30.262+02:00\n11       2019-04-01T02:23:29.993+02:00\n12       2019-04-01T02:25:30.864+02:00\n13       2019-04-01T02:27:30.624+02:00\n14       2019-04-01T02:29:30.885+02:00\n15       2019-04-01T02:31:31.280+02:00\n16       2019-04-01T02:33:38.780+02:00\n17       2019-04-01T02:35:37.224+02:00\n18       2019-04-01T02:37:37.351+02:00\n19       2019-04-01T02:39:37.462+02:00\n20       2019-04-01T02:41:38.000+02:00\n21       2019-04-01T02:43:37.840+02:00\n22       2019-04-01T02:45:38.240+02:00\n23       2019-04-01T02:47:38.337+02:00\n24       2019-04-01T02:49:38.601+02:00\n25       2019-04-01T02:51:39.308+02:00\n26       2019-04-01T02:53:39.410+02:00\n27       2019-04-01T02:55:39.654+02:00\n28       2019-04-01T02:57:39.732+02:00\n29       2019-04-01T02:59:39.978+02:00\n                     ...              \n18841    2019-05-01T01:01:33.087+02:00\n18842    2019-05-01T01:03:33.497+02:00\n18843    2019-05-01T01:05:33.825+02:00\n18844    2019-05-01T01:07:34.120+02:00\n18845    2019-05-01T01:09:34.384+02:00\n18846    2019-05-01T01:11:34.613+02:00\n18847    2019-05-01T01:13:34.669+02:00\n18848    2019-05-01T01:15:35.195+02:00\n18849    2019-05-01T01:17:35.453+02:00\n18850    2019-05-01T01:19:35.405+02:00\n18851    2019-05-01T01:21:35.652+02:00\n18852    2019-05-01T01:23:36.133+02:00\n18853    2019-05-01T01:25:36.407+02:00\n18854    2019-05-01T01:27:36.623+02:00\n18855    2019-05-01T01:29:36.932+02:00\n18856    2019-05-01T01:31:36.917+02:00\n18857    2019-05-01T01:33:37.499+02:00\n18858    2019-05-01T01:35:37.787+02:00\n18859    2019-05-01T01:37:37.740+02:00\n18860    2019-05-01T01:39:37.899+02:00\n18861    2019-05-01T01:41:38.454+02:00\n18862    2019-05-01T01:43:38.784+02:00\n18863    2019-05-01T01:45:38.930+02:00\n18864    2019-05-01T01:47:39.440+02:00\n18865    2019-05-01T01:49:39.406+02:00\n18866    2019-05-01T01:51:39.441+02:00\n18867    2019-05-01T01:53:40.239+02:00\n18868    2019-05-01T01:55:40.399+02:00\n18869    2019-05-01T01:57:40.143+02:00\n18870    2019-05-01T01:59:41.066+02:00\nName: srtDate, Length: 18871, dtype: object",
     "output_type": "error",
     "traceback": [
      "\u001b[0;31m---------------------------------------------------------------------------\u001b[0m",
      "\u001b[0;31mTypeError\u001b[0m                                 Traceback (most recent call last)",
      "\u001b[0;32m~/anaconda3/lib/python3.7/site-packages/pandas/tseries/frequencies.py\u001b[0m in \u001b[0;36mto_offset\u001b[0;34m(freq)\u001b[0m\n\u001b[1;32m    135\u001b[0m         \u001b[0;32mtry\u001b[0m\u001b[0;34m:\u001b[0m\u001b[0;34m\u001b[0m\u001b[0;34m\u001b[0m\u001b[0m\n\u001b[0;32m--> 136\u001b[0;31m             \u001b[0msplitted\u001b[0m \u001b[0;34m=\u001b[0m \u001b[0mre\u001b[0m\u001b[0;34m.\u001b[0m\u001b[0msplit\u001b[0m\u001b[0;34m(\u001b[0m\u001b[0mlibfreqs\u001b[0m\u001b[0;34m.\u001b[0m\u001b[0mopattern\u001b[0m\u001b[0;34m,\u001b[0m \u001b[0mfreq\u001b[0m\u001b[0;34m)\u001b[0m\u001b[0;34m\u001b[0m\u001b[0;34m\u001b[0m\u001b[0m\n\u001b[0m\u001b[1;32m    137\u001b[0m             \u001b[0;32mif\u001b[0m \u001b[0msplitted\u001b[0m\u001b[0;34m[\u001b[0m\u001b[0;34m-\u001b[0m\u001b[0;36m1\u001b[0m\u001b[0;34m]\u001b[0m \u001b[0;34m!=\u001b[0m \u001b[0;34m''\u001b[0m \u001b[0;32mand\u001b[0m \u001b[0;32mnot\u001b[0m \u001b[0msplitted\u001b[0m\u001b[0;34m[\u001b[0m\u001b[0;34m-\u001b[0m\u001b[0;36m1\u001b[0m\u001b[0;34m]\u001b[0m\u001b[0;34m.\u001b[0m\u001b[0misspace\u001b[0m\u001b[0;34m(\u001b[0m\u001b[0;34m)\u001b[0m\u001b[0;34m:\u001b[0m\u001b[0;34m\u001b[0m\u001b[0;34m\u001b[0m\u001b[0m\n",
      "\u001b[0;32m~/anaconda3/lib/python3.7/re.py\u001b[0m in \u001b[0;36msplit\u001b[0;34m(pattern, string, maxsplit, flags)\u001b[0m\n\u001b[1;32m    212\u001b[0m     of the list.\"\"\"\n\u001b[0;32m--> 213\u001b[0;31m     \u001b[0;32mreturn\u001b[0m \u001b[0m_compile\u001b[0m\u001b[0;34m(\u001b[0m\u001b[0mpattern\u001b[0m\u001b[0;34m,\u001b[0m \u001b[0mflags\u001b[0m\u001b[0;34m)\u001b[0m\u001b[0;34m.\u001b[0m\u001b[0msplit\u001b[0m\u001b[0;34m(\u001b[0m\u001b[0mstring\u001b[0m\u001b[0;34m,\u001b[0m \u001b[0mmaxsplit\u001b[0m\u001b[0;34m)\u001b[0m\u001b[0;34m\u001b[0m\u001b[0;34m\u001b[0m\u001b[0m\n\u001b[0m\u001b[1;32m    214\u001b[0m \u001b[0;34m\u001b[0m\u001b[0m\n",
      "\u001b[0;31mTypeError\u001b[0m: expected string or bytes-like object",
      "\nDuring handling of the above exception, another exception occurred:\n",
      "\u001b[0;31mValueError\u001b[0m                                Traceback (most recent call last)",
      "\u001b[0;32m<ipython-input-34-5abb2db9497d>\u001b[0m in \u001b[0;36m<module>\u001b[0;34m\u001b[0m\n\u001b[1;32m      1\u001b[0m \u001b[0;31m#test del metodo \"asfreq\" che converte un timeSeries alla frequenza specificata\u001b[0m\u001b[0;34m\u001b[0m\u001b[0;34m\u001b[0m\u001b[0;34m\u001b[0m\u001b[0m\n\u001b[0;32m----> 2\u001b[0;31m \u001b[0mdata\u001b[0m\u001b[0;34m.\u001b[0m\u001b[0masfreq\u001b[0m\u001b[0;34m(\u001b[0m\u001b[0mdata\u001b[0m\u001b[0;34m[\u001b[0m\u001b[0;34m'srtDate'\u001b[0m\u001b[0;34m]\u001b[0m\u001b[0;34m)\u001b[0m\u001b[0;34m\u001b[0m\u001b[0;34m\u001b[0m\u001b[0m\n\u001b[0m",
      "\u001b[0;32m~/anaconda3/lib/python3.7/site-packages/pandas/core/generic.py\u001b[0m in \u001b[0;36masfreq\u001b[0;34m(self, freq, method, how, normalize, fill_value)\u001b[0m\n\u001b[1;32m   7729\u001b[0m         \u001b[0;32mfrom\u001b[0m \u001b[0mpandas\u001b[0m\u001b[0;34m.\u001b[0m\u001b[0mcore\u001b[0m\u001b[0;34m.\u001b[0m\u001b[0mresample\u001b[0m \u001b[0;32mimport\u001b[0m \u001b[0masfreq\u001b[0m\u001b[0;34m\u001b[0m\u001b[0;34m\u001b[0m\u001b[0m\n\u001b[1;32m   7730\u001b[0m         return asfreq(self, freq, method=method, how=how, normalize=normalize,\n\u001b[0;32m-> 7731\u001b[0;31m                       fill_value=fill_value)\n\u001b[0m\u001b[1;32m   7732\u001b[0m \u001b[0;34m\u001b[0m\u001b[0m\n\u001b[1;32m   7733\u001b[0m     \u001b[0;32mdef\u001b[0m \u001b[0mat_time\u001b[0m\u001b[0;34m(\u001b[0m\u001b[0mself\u001b[0m\u001b[0;34m,\u001b[0m \u001b[0mtime\u001b[0m\u001b[0;34m,\u001b[0m \u001b[0masof\u001b[0m\u001b[0;34m=\u001b[0m\u001b[0;32mFalse\u001b[0m\u001b[0;34m,\u001b[0m \u001b[0maxis\u001b[0m\u001b[0;34m=\u001b[0m\u001b[0;32mNone\u001b[0m\u001b[0;34m)\u001b[0m\u001b[0;34m:\u001b[0m\u001b[0;34m\u001b[0m\u001b[0;34m\u001b[0m\u001b[0m\n",
      "\u001b[0;32m~/anaconda3/lib/python3.7/site-packages/pandas/core/resample.py\u001b[0m in \u001b[0;36masfreq\u001b[0;34m(obj, freq, method, how, normalize, fill_value)\u001b[0m\n\u001b[1;32m   1758\u001b[0m \u001b[0;34m\u001b[0m\u001b[0m\n\u001b[1;32m   1759\u001b[0m     \u001b[0;32melse\u001b[0m\u001b[0;34m:\u001b[0m\u001b[0;34m\u001b[0m\u001b[0;34m\u001b[0m\u001b[0m\n\u001b[0;32m-> 1760\u001b[0;31m         \u001b[0mdti\u001b[0m \u001b[0;34m=\u001b[0m \u001b[0mdate_range\u001b[0m\u001b[0;34m(\u001b[0m\u001b[0mobj\u001b[0m\u001b[0;34m.\u001b[0m\u001b[0mindex\u001b[0m\u001b[0;34m[\u001b[0m\u001b[0;36m0\u001b[0m\u001b[0;34m]\u001b[0m\u001b[0;34m,\u001b[0m \u001b[0mobj\u001b[0m\u001b[0;34m.\u001b[0m\u001b[0mindex\u001b[0m\u001b[0;34m[\u001b[0m\u001b[0;34m-\u001b[0m\u001b[0;36m1\u001b[0m\u001b[0;34m]\u001b[0m\u001b[0;34m,\u001b[0m \u001b[0mfreq\u001b[0m\u001b[0;34m=\u001b[0m\u001b[0mfreq\u001b[0m\u001b[0;34m)\u001b[0m\u001b[0;34m\u001b[0m\u001b[0;34m\u001b[0m\u001b[0m\n\u001b[0m\u001b[1;32m   1761\u001b[0m         \u001b[0mdti\u001b[0m\u001b[0;34m.\u001b[0m\u001b[0mname\u001b[0m \u001b[0;34m=\u001b[0m \u001b[0mobj\u001b[0m\u001b[0;34m.\u001b[0m\u001b[0mindex\u001b[0m\u001b[0;34m.\u001b[0m\u001b[0mname\u001b[0m\u001b[0;34m\u001b[0m\u001b[0;34m\u001b[0m\u001b[0m\n\u001b[1;32m   1762\u001b[0m         \u001b[0mnew_obj\u001b[0m \u001b[0;34m=\u001b[0m \u001b[0mobj\u001b[0m\u001b[0;34m.\u001b[0m\u001b[0mreindex\u001b[0m\u001b[0;34m(\u001b[0m\u001b[0mdti\u001b[0m\u001b[0;34m,\u001b[0m \u001b[0mmethod\u001b[0m\u001b[0;34m=\u001b[0m\u001b[0mmethod\u001b[0m\u001b[0;34m,\u001b[0m \u001b[0mfill_value\u001b[0m\u001b[0;34m=\u001b[0m\u001b[0mfill_value\u001b[0m\u001b[0;34m)\u001b[0m\u001b[0;34m\u001b[0m\u001b[0;34m\u001b[0m\u001b[0m\n",
      "\u001b[0;32m~/anaconda3/lib/python3.7/site-packages/pandas/core/indexes/datetimes.py\u001b[0m in \u001b[0;36mdate_range\u001b[0;34m(start, end, periods, freq, tz, normalize, name, closed, **kwargs)\u001b[0m\n\u001b[1;32m   1522\u001b[0m         \u001b[0mstart\u001b[0m\u001b[0;34m=\u001b[0m\u001b[0mstart\u001b[0m\u001b[0;34m,\u001b[0m \u001b[0mend\u001b[0m\u001b[0;34m=\u001b[0m\u001b[0mend\u001b[0m\u001b[0;34m,\u001b[0m \u001b[0mperiods\u001b[0m\u001b[0;34m=\u001b[0m\u001b[0mperiods\u001b[0m\u001b[0;34m,\u001b[0m\u001b[0;34m\u001b[0m\u001b[0;34m\u001b[0m\u001b[0m\n\u001b[1;32m   1523\u001b[0m         \u001b[0mfreq\u001b[0m\u001b[0;34m=\u001b[0m\u001b[0mfreq\u001b[0m\u001b[0;34m,\u001b[0m \u001b[0mtz\u001b[0m\u001b[0;34m=\u001b[0m\u001b[0mtz\u001b[0m\u001b[0;34m,\u001b[0m \u001b[0mnormalize\u001b[0m\u001b[0;34m=\u001b[0m\u001b[0mnormalize\u001b[0m\u001b[0;34m,\u001b[0m\u001b[0;34m\u001b[0m\u001b[0;34m\u001b[0m\u001b[0m\n\u001b[0;32m-> 1524\u001b[0;31m         closed=closed, **kwargs)\n\u001b[0m\u001b[1;32m   1525\u001b[0m     return DatetimeIndex._simple_new(\n\u001b[1;32m   1526\u001b[0m         dtarr, tz=dtarr.tz, freq=dtarr.freq, name=name)\n",
      "\u001b[0;32m~/anaconda3/lib/python3.7/site-packages/pandas/core/arrays/datetimes.py\u001b[0m in \u001b[0;36m_generate_range\u001b[0;34m(cls, start, end, periods, freq, tz, normalize, ambiguous, nonexistent, closed)\u001b[0m\n\u001b[1;32m    406\u001b[0m             raise ValueError('Of the four parameters: start, end, periods, '\n\u001b[1;32m    407\u001b[0m                              'and freq, exactly three must be specified')\n\u001b[0;32m--> 408\u001b[0;31m         \u001b[0mfreq\u001b[0m \u001b[0;34m=\u001b[0m \u001b[0mto_offset\u001b[0m\u001b[0;34m(\u001b[0m\u001b[0mfreq\u001b[0m\u001b[0;34m)\u001b[0m\u001b[0;34m\u001b[0m\u001b[0;34m\u001b[0m\u001b[0m\n\u001b[0m\u001b[1;32m    409\u001b[0m \u001b[0;34m\u001b[0m\u001b[0m\n\u001b[1;32m    410\u001b[0m         \u001b[0;32mif\u001b[0m \u001b[0mstart\u001b[0m \u001b[0;32mis\u001b[0m \u001b[0;32mnot\u001b[0m \u001b[0;32mNone\u001b[0m\u001b[0;34m:\u001b[0m\u001b[0;34m\u001b[0m\u001b[0;34m\u001b[0m\u001b[0m\n",
      "\u001b[0;32m~/anaconda3/lib/python3.7/site-packages/pandas/tseries/frequencies.py\u001b[0m in \u001b[0;36mto_offset\u001b[0;34m(freq)\u001b[0m\n\u001b[1;32m    159\u001b[0m                     \u001b[0mdelta\u001b[0m \u001b[0;34m=\u001b[0m \u001b[0mdelta\u001b[0m \u001b[0;34m+\u001b[0m \u001b[0moffset\u001b[0m\u001b[0;34m\u001b[0m\u001b[0;34m\u001b[0m\u001b[0m\n\u001b[1;32m    160\u001b[0m         \u001b[0;32mexcept\u001b[0m \u001b[0mException\u001b[0m\u001b[0;34m:\u001b[0m\u001b[0;34m\u001b[0m\u001b[0;34m\u001b[0m\u001b[0m\n\u001b[0;32m--> 161\u001b[0;31m             \u001b[0;32mraise\u001b[0m \u001b[0mValueError\u001b[0m\u001b[0;34m(\u001b[0m\u001b[0mlibfreqs\u001b[0m\u001b[0;34m.\u001b[0m\u001b[0mINVALID_FREQ_ERR_MSG\u001b[0m\u001b[0;34m.\u001b[0m\u001b[0mformat\u001b[0m\u001b[0;34m(\u001b[0m\u001b[0mfreq\u001b[0m\u001b[0;34m)\u001b[0m\u001b[0;34m)\u001b[0m\u001b[0;34m\u001b[0m\u001b[0;34m\u001b[0m\u001b[0m\n\u001b[0m\u001b[1;32m    162\u001b[0m \u001b[0;34m\u001b[0m\u001b[0m\n\u001b[1;32m    163\u001b[0m     \u001b[0;32mif\u001b[0m \u001b[0mdelta\u001b[0m \u001b[0;32mis\u001b[0m \u001b[0;32mNone\u001b[0m\u001b[0;34m:\u001b[0m\u001b[0;34m\u001b[0m\u001b[0;34m\u001b[0m\u001b[0m\n",
      "\u001b[0;31mValueError\u001b[0m: Invalid frequency: 0        2019-04-01T02:01:27.365+02:00\n1        2019-04-01T02:03:28.019+02:00\n2        2019-04-01T02:05:27.639+02:00\n3        2019-04-01T02:07:28.219+02:00\n4        2019-04-01T02:09:28.607+02:00\n5        2019-04-01T02:11:28.693+02:00\n6        2019-04-01T02:13:28.806+02:00\n7        2019-04-01T02:15:29.278+02:00\n8        2019-04-01T02:17:29.344+02:00\n9        2019-04-01T02:19:29.825+02:00\n10       2019-04-01T02:21:30.262+02:00\n11       2019-04-01T02:23:29.993+02:00\n12       2019-04-01T02:25:30.864+02:00\n13       2019-04-01T02:27:30.624+02:00\n14       2019-04-01T02:29:30.885+02:00\n15       2019-04-01T02:31:31.280+02:00\n16       2019-04-01T02:33:38.780+02:00\n17       2019-04-01T02:35:37.224+02:00\n18       2019-04-01T02:37:37.351+02:00\n19       2019-04-01T02:39:37.462+02:00\n20       2019-04-01T02:41:38.000+02:00\n21       2019-04-01T02:43:37.840+02:00\n22       2019-04-01T02:45:38.240+02:00\n23       2019-04-01T02:47:38.337+02:00\n24       2019-04-01T02:49:38.601+02:00\n25       2019-04-01T02:51:39.308+02:00\n26       2019-04-01T02:53:39.410+02:00\n27       2019-04-01T02:55:39.654+02:00\n28       2019-04-01T02:57:39.732+02:00\n29       2019-04-01T02:59:39.978+02:00\n                     ...              \n18841    2019-05-01T01:01:33.087+02:00\n18842    2019-05-01T01:03:33.497+02:00\n18843    2019-05-01T01:05:33.825+02:00\n18844    2019-05-01T01:07:34.120+02:00\n18845    2019-05-01T01:09:34.384+02:00\n18846    2019-05-01T01:11:34.613+02:00\n18847    2019-05-01T01:13:34.669+02:00\n18848    2019-05-01T01:15:35.195+02:00\n18849    2019-05-01T01:17:35.453+02:00\n18850    2019-05-01T01:19:35.405+02:00\n18851    2019-05-01T01:21:35.652+02:00\n18852    2019-05-01T01:23:36.133+02:00\n18853    2019-05-01T01:25:36.407+02:00\n18854    2019-05-01T01:27:36.623+02:00\n18855    2019-05-01T01:29:36.932+02:00\n18856    2019-05-01T01:31:36.917+02:00\n18857    2019-05-01T01:33:37.499+02:00\n18858    2019-05-01T01:35:37.787+02:00\n18859    2019-05-01T01:37:37.740+02:00\n18860    2019-05-01T01:39:37.899+02:00\n18861    2019-05-01T01:41:38.454+02:00\n18862    2019-05-01T01:43:38.784+02:00\n18863    2019-05-01T01:45:38.930+02:00\n18864    2019-05-01T01:47:39.440+02:00\n18865    2019-05-01T01:49:39.406+02:00\n18866    2019-05-01T01:51:39.441+02:00\n18867    2019-05-01T01:53:40.239+02:00\n18868    2019-05-01T01:55:40.399+02:00\n18869    2019-05-01T01:57:40.143+02:00\n18870    2019-05-01T01:59:41.066+02:00\nName: srtDate, Length: 18871, dtype: object"
     ]
    }
   ],
   "source": [
    "#test del metodo \"asfreq\" che converte un timeSeries alla frequenza specificata\n",
    "data.asfreq(data['srtDate'])"
   ]
  },
  {
   "cell_type": "code",
   "execution_count": 35,
   "metadata": {},
   "outputs": [
    {
     "name": "stdout",
     "output_type": "stream",
     "text": [
      "[    0     1     2 ... 18868 18869 18870]\n"
     ]
    }
   ],
   "source": [
    "#import la libreria preprocessing \n",
    "from sklearn import preprocessing\n",
    "\n",
    "# LabelEncoder Codifica etichette con valore compreso tra 0 e n_classes-1\n",
    "le = preprocessing.LabelEncoder()\n",
    "  #le.fit([data['srtDate'], data['absolute_humidity']])\n",
    "    \n",
    "#Fit label encoder --> indicizza la data con numeri da 0 a n-1\n",
    "miaData = le.fit_transform(data['srtDate'])\n",
    "print(miaData)"
   ]
  },
  {
   "cell_type": "code",
   "execution_count": 36,
   "metadata": {},
   "outputs": [
    {
     "name": "stdout",
     "output_type": "stream",
     "text": [
      "r quadro:  0.5393846437937986\n"
     ]
    }
   ],
   "source": [
    "#Creo un'stanza della classe \"Linear Regression\" che rappresenterà il modello di regressione\n",
    "model = LinearRegression()\n",
    "#con fit() è possibile calcolare valori ottimali per i pesi\n",
    "pesi = model.fit(x, miaData)\n",
    "#misuro l'r quadro\n",
    "r_sq = model.score(x, miaData)\n",
    "print('r quadro: ', r_sq)\n"
   ]
  },
  {
   "cell_type": "code",
   "execution_count": 37,
   "metadata": {},
   "outputs": [
    {
     "name": "stdout",
     "output_type": "stream",
     "text": [
      "intersezione:  -37079.14350725565\n",
      "pendenza: [4697.05113637]\n"
     ]
    }
   ],
   "source": [
    "#misuro il punto di intersezione della retta con l'asse y (formula--> y = mx+q)\n",
    "#intersezione = intercept --> is a scalar\n",
    "#pendenza = slope --> is an array\n",
    "\n",
    "print('intersezione: ', model.intercept_)\n",
    "#misuro la pendenza della retta\n",
    "print('pendenza:', model.coef_)"
   ]
  },
  {
   "cell_type": "code",
   "execution_count": 38,
   "metadata": {},
   "outputs": [
    {
     "name": "stdout",
     "output_type": "stream",
     "text": [
      "predicted response: \n",
      "[ 3159.70254178  3159.70254178  3159.70254178 ... 11650.56261921\n",
      " 11650.56261921 11650.56261921]\n"
     ]
    }
   ],
   "source": [
    "#provo a predire valori futuri\n",
    "\n",
    "y_pred = model.predict(x)\n",
    "print('predicted response: ', y_pred, sep = '\\n')"
   ]
  },
  {
   "cell_type": "code",
   "execution_count": 39,
   "metadata": {},
   "outputs": [],
   "source": [
    "from matplotlib.pyplot import *\n",
    "%matplotlib inline"
   ]
  },
  {
   "cell_type": "code",
   "execution_count": 40,
   "metadata": {
    "slideshow": {
     "slide_type": "slide"
    }
   },
   "outputs": [
    {
     "data": {
      "text/plain": [
       "[<matplotlib.lines.Line2D at 0x7f9c7edc71d0>]"
      ]
     },
     "execution_count": 40,
     "metadata": {},
     "output_type": "execute_result"
    },
    {
     "data": {
      "image/png": "[encoded data removed]",
      "text/plain": [
       "<Figure size 432x288 with 1 Axes>"
      ]
     },
     "metadata": {
      "needs_background": "light"
     },
     "output_type": "display_data"
    }
   ],
   "source": [
    "plot(y_pred)"
   ]
  },
  {
   "cell_type": "code",
   "execution_count": 58,
   "metadata": {
    "slideshow": {
     "slide_type": "slide"
    }
   },
   "outputs": [
    {
     "name": "stdout",
     "output_type": "stream",
     "text": [
      "LinearRegression(copy_X=True, fit_intercept=True, n_jobs=None,\n",
      "         normalize=False)\n"
     ]
    }
   ],
   "source": [
    "sk_model = model\n",
    "sk_model = sk_model.fit(x, miaData)\n",
    "#set the artifact_path to location where experiment artifacts will be saved\n",
    "#log model params\n",
    "#mlflow.log_param(\"criterion\", sk_model.criterion)\n",
    "#mlflow.log_param(\"splitter\", sk_model.splitter)\n",
    "#log model\n",
    "mlflow.sklearn.log_model(sk_model, \"sk_models\")\n",
    "print(sk_model)"
   ]
  }
 ],
 "metadata": {
  "kernelspec": {
   "display_name": "Python 3",
   "language": "python",
   "name": "python3"
  },
  "language_info": {
   "codemirror_mode": {
    "name": "ipython",
    "version": 3
   },
   "file_extension": ".py",
   "mimetype": "text/x-python",
   "name": "python",
   "nbconvert_exporter": "python",
   "pygments_lexer": "ipython3",
   "version": "3.7.3"
  }
 },
 "nbformat": 4,
 "nbformat_minor": 2
}
